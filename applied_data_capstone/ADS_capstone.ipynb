{
 "metadata": {
  "language_info": {
   "codemirror_mode": {
    "name": "ipython",
    "version": 3
   },
   "file_extension": ".py",
   "mimetype": "text/x-python",
   "name": "python",
   "nbconvert_exporter": "python",
   "pygments_lexer": "ipython3",
   "version": "3.8.3-final"
  },
  "orig_nbformat": 2,
  "kernelspec": {
   "name": "Python 3.8.3 64-bit ('base': conda)",
   "display_name": "Python 3.8.3 64-bit ('base': conda)",
   "metadata": {
    "interpreter": {
     "hash": "b3ba2566441a7c06988d0923437866b63cedc61552a5af99d1f4fb67d367b25f"
    }
   }
  }
 },
 "nbformat": 4,
 "nbformat_minor": 2,
 "cells": [
  {
   "source": [
    "## This notebook is only used for the Applied Data Science Capstone on Coursera."
   ],
   "cell_type": "markdown",
   "metadata": {}
  },
  {
   "source": [
    "### Capstone Project Notebook"
   ],
   "cell_type": "markdown",
   "metadata": {}
  },
  {
   "cell_type": "code",
   "execution_count": 1,
   "metadata": {},
   "outputs": [],
   "source": [
    "import pandas as pd \n",
    "import numpy as np"
   ]
  },
  {
   "cell_type": "code",
   "execution_count": 2,
   "metadata": {},
   "outputs": [
    {
     "output_type": "stream",
     "name": "stdout",
     "text": [
      "Hello Capstone Project Course\n"
     ]
    }
   ],
   "source": [
    "print('Hello Capstone Project Course')"
   ]
  },
  {
   "source": [
    "### Segmenting and Clustering Neighborhoods in Toronto"
   ],
   "cell_type": "markdown",
   "metadata": {}
  },
  {
   "source": [
    "#### Part A of Week 3"
   ],
   "cell_type": "markdown",
   "metadata": {}
  },
  {
   "source": [
    "Install dependencies for BeautifulSoup"
   ],
   "cell_type": "markdown",
   "metadata": {}
  },
  {
   "cell_type": "code",
   "execution_count": 3,
   "metadata": {},
   "outputs": [
    {
     "output_type": "stream",
     "name": "stdout",
     "text": [
      "Requirement already satisfied: BeautifulSoup4 in c:\\programdata\\anaconda3\\lib\\site-packages (4.9.1)\nRequirement already satisfied: soupsieve>1.2 in c:\\programdata\\anaconda3\\lib\\site-packages (from BeautifulSoup4) (2.0.1)\n"
     ]
    }
   ],
   "source": [
    "!pip install BeautifulSoup4\n",
    "from bs4 import BeautifulSoup\n",
    "import requests"
   ]
  },
  {
   "source": [
    "Pull data from wikipedia using BeautifulSoup"
   ],
   "cell_type": "markdown",
   "metadata": {}
  },
  {
   "cell_type": "code",
   "execution_count": 4,
   "metadata": {
    "tags": []
   },
   "outputs": [],
   "source": [
    "# Use the Notebook to build the code to scrape the following Wikipedia page, \n",
    "# https://en.wikipedia.org/wiki/List_of_postal_codes_of_Canada:_M, in order \n",
    "# to obtain the data that is in the table of postal codes and to transform \n",
    "# the data into a pandas dataframe\n",
    "url = 'https://en.wikipedia.org/wiki/List_of_postal_codes_of_Canada:_M'\n",
    "html_content = requests.get(url).text\n",
    "soup = BeautifulSoup(html_content, \"lxml\")"
   ]
  },
  {
   "source": [
    "Search data for specified string associated with data of interest (Table)"
   ],
   "cell_type": "markdown",
   "metadata": {}
  },
  {
   "cell_type": "code",
   "execution_count": 5,
   "metadata": {},
   "outputs": [
    {
     "output_type": "execute_result",
     "data": {
      "text/plain": [
       "['Postal Code', 'Borough', 'Neighbourhood']"
      ]
     },
     "metadata": {},
     "execution_count": 5
    }
   ],
   "source": [
    "table = soup.find(\"table\", attrs={'class': 'wikitable'})\n",
    "tds = table.tbody.find_all('tr')\n",
    "\n",
    "#Get the header\n",
    "headings = []\n",
    "for td in tds[0].find_all('th'):\n",
    "    headings.append(td.contents[0].strip()) \n",
    "\n",
    "headings"
   ]
  },
  {
   "source": [
    "Loop through data to obtain rows of our dataframe. Elimination un-needed items and replacing some. "
   ],
   "cell_type": "markdown",
   "metadata": {}
  },
  {
   "cell_type": "code",
   "execution_count": 6,
   "metadata": {},
   "outputs": [
    {
     "output_type": "execute_result",
     "data": {
      "text/plain": [
       "    Postal Code      Borough  \\\n",
       "0           M1B  Scarborough   \n",
       "1           M1C  Scarborough   \n",
       "2           M1E  Scarborough   \n",
       "3           M1G  Scarborough   \n",
       "4           M1H  Scarborough   \n",
       "..          ...          ...   \n",
       "98          M9N         York   \n",
       "99          M9P    Etobicoke   \n",
       "100         M9R    Etobicoke   \n",
       "101         M9V    Etobicoke   \n",
       "102         M9W    Etobicoke   \n",
       "\n",
       "                                         Neighbourhood  \n",
       "0                                       Malvern, Rouge  \n",
       "1               Rouge Hill, Port Union, Highland Creek  \n",
       "2                    Guildwood, Morningside, West Hill  \n",
       "3                                               Woburn  \n",
       "4                                            Cedarbrae  \n",
       "..                                                 ...  \n",
       "98                                              Weston  \n",
       "99                                           Westmount  \n",
       "100  Kingsview Village, St. Phillips, Martin Grove ...  \n",
       "101  South Steeles, Silverstone, Humbergate, Jamest...  \n",
       "102                Northwest, West Humber - Clairville  \n",
       "\n",
       "[103 rows x 3 columns]"
      ],
      "text/html": "<div>\n<style scoped>\n    .dataframe tbody tr th:only-of-type {\n        vertical-align: middle;\n    }\n\n    .dataframe tbody tr th {\n        vertical-align: top;\n    }\n\n    .dataframe thead th {\n        text-align: right;\n    }\n</style>\n<table border=\"1\" class=\"dataframe\">\n  <thead>\n    <tr style=\"text-align: right;\">\n      <th></th>\n      <th>Postal Code</th>\n      <th>Borough</th>\n      <th>Neighbourhood</th>\n    </tr>\n  </thead>\n  <tbody>\n    <tr>\n      <th>0</th>\n      <td>M1B</td>\n      <td>Scarborough</td>\n      <td>Malvern, Rouge</td>\n    </tr>\n    <tr>\n      <th>1</th>\n      <td>M1C</td>\n      <td>Scarborough</td>\n      <td>Rouge Hill, Port Union, Highland Creek</td>\n    </tr>\n    <tr>\n      <th>2</th>\n      <td>M1E</td>\n      <td>Scarborough</td>\n      <td>Guildwood, Morningside, West Hill</td>\n    </tr>\n    <tr>\n      <th>3</th>\n      <td>M1G</td>\n      <td>Scarborough</td>\n      <td>Woburn</td>\n    </tr>\n    <tr>\n      <th>4</th>\n      <td>M1H</td>\n      <td>Scarborough</td>\n      <td>Cedarbrae</td>\n    </tr>\n    <tr>\n      <th>...</th>\n      <td>...</td>\n      <td>...</td>\n      <td>...</td>\n    </tr>\n    <tr>\n      <th>98</th>\n      <td>M9N</td>\n      <td>York</td>\n      <td>Weston</td>\n    </tr>\n    <tr>\n      <th>99</th>\n      <td>M9P</td>\n      <td>Etobicoke</td>\n      <td>Westmount</td>\n    </tr>\n    <tr>\n      <th>100</th>\n      <td>M9R</td>\n      <td>Etobicoke</td>\n      <td>Kingsview Village, St. Phillips, Martin Grove ...</td>\n    </tr>\n    <tr>\n      <th>101</th>\n      <td>M9V</td>\n      <td>Etobicoke</td>\n      <td>South Steeles, Silverstone, Humbergate, Jamest...</td>\n    </tr>\n    <tr>\n      <th>102</th>\n      <td>M9W</td>\n      <td>Etobicoke</td>\n      <td>Northwest, West Humber - Clairville</td>\n    </tr>\n  </tbody>\n</table>\n<p>103 rows × 3 columns</p>\n</div>"
     },
     "metadata": {},
     "execution_count": 6
    }
   ],
   "source": [
    "#The dataframe will consist of three columns: PostalCode, Borough, and Neighborhood\n",
    "data = []\n",
    "\n",
    "for tr in tds[1:]:\n",
    "    td = tr.find_all('td')\n",
    "    row = [tr.text.strip() for tr in td]\n",
    "    if not ('Not assigned' in row[1]):   #Ignore cells with a borough that is Not assigned.\n",
    "        if 'Not assigned' in row[2]:\n",
    "            row[2] = row[1]                 #Replace Neighbourhood for borough if 'Not assigned'.  \n",
    "        data.append(row)\n",
    "    \n",
    "#create dataframe   \n",
    "df = pd.DataFrame(data, columns=headings)\n",
    "\n",
    "#combime Neighbourhoods with same postal code\n",
    "df = df.groupby([\"Postal Code\", \"Borough\"])[\"Neighbourhood\"].apply(\", \".join).reset_index()\n",
    "df"
   ]
  },
  {
   "cell_type": "code",
   "execution_count": 7,
   "metadata": {},
   "outputs": [
    {
     "output_type": "stream",
     "name": "stdout",
     "text": [
      "Shape:  (103, 3)\n"
     ]
    }
   ],
   "source": [
    "#print the numbre of rows of your dataframe\n",
    "print(\"Shape: \", df.shape)"
   ]
  },
  {
   "source": [
    "#### Part B of Week 3"
   ],
   "cell_type": "markdown",
   "metadata": {}
  },
  {
   "source": [
    "Attempting to use geocoder"
   ],
   "cell_type": "markdown",
   "metadata": {}
  },
  {
   "cell_type": "code",
   "execution_count": 8,
   "metadata": {},
   "outputs": [
    {
     "output_type": "stream",
     "name": "stdout",
     "text": [
      "Requirement already satisfied: geocoder in c:\\programdata\\anaconda3\\lib\\site-packages (1.38.1)\nRequirement already satisfied: six in c:\\programdata\\anaconda3\\lib\\site-packages (from geocoder) (1.15.0)\nRequirement already satisfied: requests in c:\\programdata\\anaconda3\\lib\\site-packages (from geocoder) (2.24.0)\nRequirement already satisfied: click in c:\\programdata\\anaconda3\\lib\\site-packages (from geocoder) (7.1.2)\nRequirement already satisfied: future in c:\\programdata\\anaconda3\\lib\\site-packages (from geocoder) (0.18.2)\nRequirement already satisfied: ratelim in c:\\programdata\\anaconda3\\lib\\site-packages (from geocoder) (0.1.6)\nRequirement already satisfied: certifi>=2017.4.17 in c:\\programdata\\anaconda3\\lib\\site-packages (from requests->geocoder) (2020.6.20)\nRequirement already satisfied: chardet<4,>=3.0.2 in c:\\programdata\\anaconda3\\lib\\site-packages (from requests->geocoder) (3.0.4)\nRequirement already satisfied: idna<3,>=2.5 in c:\\programdata\\anaconda3\\lib\\site-packages (from requests->geocoder) (2.10)\nRequirement already satisfied: urllib3!=1.25.0,!=1.25.1,<1.26,>=1.21.1 in c:\\programdata\\anaconda3\\lib\\site-packages (from requests->geocoder) (1.25.9)\nRequirement already satisfied: decorator in c:\\programdata\\anaconda3\\lib\\site-packages (from ratelim->geocoder) (4.4.2)\n"
     ]
    }
   ],
   "source": [
    "!pip install geocoder\n",
    "import geocoder # import geocoder"
   ]
  },
  {
   "cell_type": "code",
   "execution_count": 9,
   "metadata": {},
   "outputs": [
    {
     "output_type": "execute_result",
     "data": {
      "text/plain": [
       "\"\\n# initialize your variable to None\\npostal_codes = df['Postal Code'].tolist()\\ngeo_coord = []\\n# loop until you get the coordinates\\nfor postal_code in postal_codes:\\n    lat_lng_coords = None\\n    while(lat_lng_coords is None):\\n        g = geocoder.google('{}, Toronto, Ontario'.format(postal_code))\\n        lat_lng_coords = g.latlng\\n    geo_coord.append([postal_code, lat_lng_coords[0], lat_lng_coords[1]])\\n\""
      ]
     },
     "metadata": {},
     "execution_count": 9
    }
   ],
   "source": [
    "'''\n",
    "# initialize your variable to None\n",
    "postal_codes = df['Postal Code'].tolist()\n",
    "geo_coord = []\n",
    "# loop until you get the coordinates\n",
    "for postal_code in postal_codes:\n",
    "    lat_lng_coords = None\n",
    "    while(lat_lng_coords is None):\n",
    "        g = geocoder.google('{}, Toronto, Ontario'.format(postal_code))\n",
    "        lat_lng_coords = g.latlng\n",
    "    geo_coord.append([postal_code, lat_lng_coords[0], lat_lng_coords[1]])\n",
    "'''"
   ]
  },
  {
   "source": [
    "Reading csv to save time"
   ],
   "cell_type": "markdown",
   "metadata": {}
  },
  {
   "cell_type": "code",
   "execution_count": 10,
   "metadata": {},
   "outputs": [
    {
     "output_type": "execute_result",
     "data": {
      "text/plain": [
       "    Postal Code      Borough  \\\n",
       "0           M1B  Scarborough   \n",
       "1           M1C  Scarborough   \n",
       "2           M1E  Scarborough   \n",
       "3           M1G  Scarborough   \n",
       "4           M1H  Scarborough   \n",
       "..          ...          ...   \n",
       "98          M9N         York   \n",
       "99          M9P    Etobicoke   \n",
       "100         M9R    Etobicoke   \n",
       "101         M9V    Etobicoke   \n",
       "102         M9W    Etobicoke   \n",
       "\n",
       "                                         Neighbourhood   Latitude  Longitude  \n",
       "0                                       Malvern, Rouge  43.806686 -79.194353  \n",
       "1               Rouge Hill, Port Union, Highland Creek  43.784535 -79.160497  \n",
       "2                    Guildwood, Morningside, West Hill  43.763573 -79.188711  \n",
       "3                                               Woburn  43.770992 -79.216917  \n",
       "4                                            Cedarbrae  43.773136 -79.239476  \n",
       "..                                                 ...        ...        ...  \n",
       "98                                              Weston  43.706876 -79.518188  \n",
       "99                                           Westmount  43.696319 -79.532242  \n",
       "100  Kingsview Village, St. Phillips, Martin Grove ...  43.688905 -79.554724  \n",
       "101  South Steeles, Silverstone, Humbergate, Jamest...  43.739416 -79.588437  \n",
       "102                Northwest, West Humber - Clairville  43.706748 -79.594054  \n",
       "\n",
       "[103 rows x 5 columns]"
      ],
      "text/html": "<div>\n<style scoped>\n    .dataframe tbody tr th:only-of-type {\n        vertical-align: middle;\n    }\n\n    .dataframe tbody tr th {\n        vertical-align: top;\n    }\n\n    .dataframe thead th {\n        text-align: right;\n    }\n</style>\n<table border=\"1\" class=\"dataframe\">\n  <thead>\n    <tr style=\"text-align: right;\">\n      <th></th>\n      <th>Postal Code</th>\n      <th>Borough</th>\n      <th>Neighbourhood</th>\n      <th>Latitude</th>\n      <th>Longitude</th>\n    </tr>\n  </thead>\n  <tbody>\n    <tr>\n      <th>0</th>\n      <td>M1B</td>\n      <td>Scarborough</td>\n      <td>Malvern, Rouge</td>\n      <td>43.806686</td>\n      <td>-79.194353</td>\n    </tr>\n    <tr>\n      <th>1</th>\n      <td>M1C</td>\n      <td>Scarborough</td>\n      <td>Rouge Hill, Port Union, Highland Creek</td>\n      <td>43.784535</td>\n      <td>-79.160497</td>\n    </tr>\n    <tr>\n      <th>2</th>\n      <td>M1E</td>\n      <td>Scarborough</td>\n      <td>Guildwood, Morningside, West Hill</td>\n      <td>43.763573</td>\n      <td>-79.188711</td>\n    </tr>\n    <tr>\n      <th>3</th>\n      <td>M1G</td>\n      <td>Scarborough</td>\n      <td>Woburn</td>\n      <td>43.770992</td>\n      <td>-79.216917</td>\n    </tr>\n    <tr>\n      <th>4</th>\n      <td>M1H</td>\n      <td>Scarborough</td>\n      <td>Cedarbrae</td>\n      <td>43.773136</td>\n      <td>-79.239476</td>\n    </tr>\n    <tr>\n      <th>...</th>\n      <td>...</td>\n      <td>...</td>\n      <td>...</td>\n      <td>...</td>\n      <td>...</td>\n    </tr>\n    <tr>\n      <th>98</th>\n      <td>M9N</td>\n      <td>York</td>\n      <td>Weston</td>\n      <td>43.706876</td>\n      <td>-79.518188</td>\n    </tr>\n    <tr>\n      <th>99</th>\n      <td>M9P</td>\n      <td>Etobicoke</td>\n      <td>Westmount</td>\n      <td>43.696319</td>\n      <td>-79.532242</td>\n    </tr>\n    <tr>\n      <th>100</th>\n      <td>M9R</td>\n      <td>Etobicoke</td>\n      <td>Kingsview Village, St. Phillips, Martin Grove ...</td>\n      <td>43.688905</td>\n      <td>-79.554724</td>\n    </tr>\n    <tr>\n      <th>101</th>\n      <td>M9V</td>\n      <td>Etobicoke</td>\n      <td>South Steeles, Silverstone, Humbergate, Jamest...</td>\n      <td>43.739416</td>\n      <td>-79.588437</td>\n    </tr>\n    <tr>\n      <th>102</th>\n      <td>M9W</td>\n      <td>Etobicoke</td>\n      <td>Northwest, West Humber - Clairville</td>\n      <td>43.706748</td>\n      <td>-79.594054</td>\n    </tr>\n  </tbody>\n</table>\n<p>103 rows × 5 columns</p>\n</div>"
     },
     "metadata": {},
     "execution_count": 10
    }
   ],
   "source": [
    "df_geo = pd.read_csv('Geospatial_Coordinates.csv')\n",
    "df_toronto = pd.merge(df, df_geo, how='left', left_on = 'Postal Code', right_on = 'Postal Code')\n",
    "df_toronto"
   ]
  },
  {
   "source": [
    "#### Part C of Week 3"
   ],
   "cell_type": "markdown",
   "metadata": {}
  },
  {
   "cell_type": "code",
   "execution_count": 14,
   "metadata": {},
   "outputs": [
    {
     "output_type": "stream",
     "name": "stdout",
     "text": [
      "The geograpical coordinate of Toronto are 43.6534817, -79.3839347.\n"
     ]
    }
   ],
   "source": [
    "address = 'Toronto, ON'\n",
    "\n",
    "geolocator = Nominatim(user_agent=\"toronto_explorer\")\n",
    "location = geolocator.geocode(address)\n",
    "latitude = location.latitude\n",
    "longitude = location.longitude\n",
    "print('The geograpical coordinate of Toronto are {}, {}.'.format(latitude, longitude))"
   ]
  },
  {
   "cell_type": "code",
   "execution_count": 16,
   "metadata": {},
   "outputs": [],
   "source": [
    "from geopy.geocoders import Nominatim \n",
    "import folium"
   ]
  },
  {
   "source": [
    "Create a map of New York with neighborhoods superimposed on top."
   ],
   "cell_type": "markdown",
   "metadata": {}
  },
  {
   "cell_type": "code",
   "execution_count": 23,
   "metadata": {},
   "outputs": [],
   "source": [
    "# create map of New York using latitude and longitude values\n",
    "map_toronto = folium.Map(location=[latitude, longitude], zoom_start=10)\n",
    "\n",
    "# add markers to map\n",
    "for lat, lng, borough, neighborhood in zip(df_toronto['Latitude'], \n",
    "    df_toronto['Longitude'], df_toronto['Borough'], df_toronto['Neighbourhood']):\n",
    "    label = '{}, {}'.format(neighborhood, borough)\n",
    "    label = folium.Popup(label, parse_html=True)\n",
    "    folium.CircleMarker(\n",
    "        [lat, lng],\n",
    "        radius=5,\n",
    "        popup=label,\n",
    "        color='blue',\n",
    "        fill=True,\n",
    "        fill_color='#3186cc',\n",
    "        fill_opacity=0.7,\n",
    "        parse_html=False).add_to(map_toronto)  \n",
    "        \n",
    "map_toronto"
   ]
  },
  {
   "source": [
    "Define Foursquare Credentials and Version"
   ],
   "cell_type": "markdown",
   "metadata": {}
  },
  {
   "cell_type": "code",
   "execution_count": 40,
   "metadata": {},
   "outputs": [
    {
     "output_type": "stream",
     "name": "stdout",
     "text": [
      "Your credentails:\nCLIENT_ID: N3Q1ZQVOL4JF1E1WPTX1UEWRJSLDJWBXXF4BGQQARVITKAZ2\nCLIENT_SECRET:X1EFUL5UOS5XESJT3NBGKZXFZRAFDPKCI1XSFZRULALAJJRW\n"
     ]
    }
   ],
   "source": [
    "CLIENT_ID = 'N3Q1ZQVOL4JF1E1WPTX1UEWRJSLDJWBXXF4BGQQARVITKAZ2' # your Foursquare ID\n",
    "CLIENT_SECRET = 'X1EFUL5UOS5XESJT3NBGKZXFZRAFDPKCI1XSFZRULALAJJRW' # your Foursquare Secret\n",
    "VERSION = '20180605' # Foursquare API version\n",
    "LIMIT = 100 # A default Foursquare API limit value\n",
    "print('Your credentails:')\n",
    "print('CLIENT_ID: ' + CLIENT_ID)\n",
    "print('CLIENT_SECRET:' + CLIENT_SECRET)"
   ]
  },
  {
   "cell_type": "code",
   "execution_count": 41,
   "metadata": {},
   "outputs": [],
   "source": [
    "def getNearbyVenues(names, latitudes, longitudes, radius=500):\n",
    "    \n",
    "    venues_list=[]\n",
    "    for name, lat, lng in zip(names, latitudes, longitudes):\n",
    "        print(name)\n",
    "            \n",
    "        # create the API request URL\n",
    "        url = 'https://api.foursquare.com/v2/venues/explore?&client_id={}&client_secret={}&v={}&ll={},{}&radius={}&limit={}'.format(\n",
    "            CLIENT_ID, \n",
    "            CLIENT_SECRET, \n",
    "            VERSION, \n",
    "            lat, \n",
    "            lng, \n",
    "            radius, \n",
    "            LIMIT)\n",
    "            \n",
    "        # make the GET request\n",
    "        results = requests.get(url).json()[\"response\"]['groups'][0]['items']\n",
    "\n",
    "        # return only relevant information for each nearby venue\n",
    "        venues_list.append([(\n",
    "            name, \n",
    "            lat, \n",
    "            lng, \n",
    "            v['venue']['name'], \n",
    "            v['venue']['location']['lat'], \n",
    "            v['venue']['location']['lng'],  \n",
    "            v['venue']['categories'][0]['name']) for v in results])\n",
    "\n",
    "    nearby_venues = pd.DataFrame([item for venue_list in venues_list for item in venue_list])\n",
    "    nearby_venues.columns = ['Neighborhood', \n",
    "                  'Neighborhood Latitude', \n",
    "                  'Neighborhood Longitude', \n",
    "                  'Venue', \n",
    "                  'Venue Latitude', \n",
    "                  'Venue Longitude', \n",
    "                  'Venue Category']\n",
    "    \n",
    "    return(nearby_venues)"
   ]
  },
  {
   "source": [
    "function to loop through boroughs and get data from foursquare"
   ],
   "cell_type": "markdown",
   "metadata": {}
  },
  {
   "cell_type": "code",
   "execution_count": 42,
   "metadata": {},
   "outputs": [
    {
     "output_type": "stream",
     "name": "stdout",
     "text": [
      "Malvern, Rouge\n",
      "Rouge Hill, Port Union, Highland Creek\n",
      "Guildwood, Morningside, West Hill\n",
      "Woburn\n",
      "Cedarbrae\n",
      "Scarborough Village\n",
      "Kennedy Park, Ionview, East Birchmount Park\n",
      "Golden Mile, Clairlea, Oakridge\n",
      "Cliffside, Cliffcrest, Scarborough Village West\n",
      "Birch Cliff, Cliffside West\n",
      "Dorset Park, Wexford Heights, Scarborough Town Centre\n",
      "Wexford, Maryvale\n",
      "Agincourt\n",
      "Clarks Corners, Tam O'Shanter, Sullivan\n",
      "Milliken, Agincourt North, Steeles East, L'Amoreaux East\n",
      "Steeles West, L'Amoreaux West\n",
      "Upper Rouge\n",
      "Hillcrest Village\n",
      "Fairview, Henry Farm, Oriole\n",
      "Bayview Village\n",
      "York Mills, Silver Hills\n",
      "Willowdale, Newtonbrook\n",
      "Willowdale, Willowdale East\n",
      "York Mills West\n",
      "Willowdale, Willowdale West\n",
      "Parkwoods\n",
      "Don Mills\n",
      "Don Mills\n",
      "Bathurst Manor, Wilson Heights, Downsview North\n",
      "Northwood Park, York University\n",
      "Downsview\n",
      "Downsview\n",
      "Downsview\n",
      "Downsview\n",
      "Victoria Village\n",
      "Parkview Hill, Woodbine Gardens\n",
      "Woodbine Heights\n",
      "The Beaches\n",
      "Leaside\n",
      "Thorncliffe Park\n",
      "East Toronto, Broadview North (Old East York)\n",
      "The Danforth West, Riverdale\n",
      "India Bazaar, The Beaches West\n",
      "Studio District\n",
      "Lawrence Park\n",
      "Davisville North\n",
      "North Toronto West,  Lawrence Park\n",
      "Davisville\n",
      "Moore Park, Summerhill East\n",
      "Summerhill West, Rathnelly, South Hill, Forest Hill SE, Deer Park\n",
      "Rosedale\n",
      "St. James Town, Cabbagetown\n",
      "Church and Wellesley\n",
      "Regent Park, Harbourfront\n",
      "Garden District, Ryerson\n",
      "St. James Town\n",
      "Berczy Park\n",
      "Central Bay Street\n",
      "Richmond, Adelaide, King\n",
      "Harbourfront East, Union Station, Toronto Islands\n",
      "Toronto Dominion Centre, Design Exchange\n",
      "Commerce Court, Victoria Hotel\n",
      "Bedford Park, Lawrence Manor East\n",
      "Roselawn\n",
      "Forest Hill North & West, Forest Hill Road Park\n",
      "The Annex, North Midtown, Yorkville\n",
      "University of Toronto, Harbord\n",
      "Kensington Market, Chinatown, Grange Park\n",
      "CN Tower, King and Spadina, Railway Lands, Harbourfront West, Bathurst Quay, South Niagara, Island airport\n",
      "Stn A PO Boxes\n",
      "First Canadian Place, Underground city\n",
      "Lawrence Manor, Lawrence Heights\n",
      "Glencairn\n",
      "Humewood-Cedarvale\n",
      "Caledonia-Fairbanks\n",
      "Christie\n",
      "Dufferin, Dovercourt Village\n",
      "Little Portugal, Trinity\n",
      "Brockton, Parkdale Village, Exhibition Place\n",
      "North Park, Maple Leaf Park, Upwood Park\n",
      "Del Ray, Mount Dennis, Keelsdale and Silverthorn\n",
      "Runnymede, The Junction North\n",
      "High Park, The Junction South\n",
      "Parkdale, Roncesvalles\n",
      "Runnymede, Swansea\n",
      "Queen's Park, Ontario Provincial Government\n",
      "Canada Post Gateway Processing Centre\n",
      "Business reply mail Processing Centre, South Central Letter Processing Plant Toronto\n",
      "New Toronto, Mimico South, Humber Bay Shores\n",
      "Alderwood, Long Branch\n",
      "The Kingsway, Montgomery Road, Old Mill North\n",
      "Old Mill South, King's Mill Park, Sunnylea, Humber Bay, Mimico NE, The Queensway East, Royal York South East, Kingsway Park South East\n",
      "Mimico NW, The Queensway West, South of Bloor, Kingsway Park South West, Royal York South West\n",
      "Islington Avenue, Humber Valley Village\n",
      "West Deane Park, Princess Gardens, Martin Grove, Islington, Cloverdale\n",
      "Eringate, Bloordale Gardens, Old Burnhamthorpe, Markland Wood\n",
      "Humber Summit\n",
      "Humberlea, Emery\n",
      "Weston\n",
      "Westmount\n",
      "Kingsview Village, St. Phillips, Martin Grove Gardens, Richview Gardens\n",
      "South Steeles, Silverstone, Humbergate, Jamestown, Mount Olive, Beaumond Heights, Thistletown, Albion Gardens\n",
      "Northwest, West Humber - Clairville\n"
     ]
    }
   ],
   "source": [
    "toronto_venues = getNearbyVenues(names=df_toronto['Neighbourhood'],\n",
    "                                   latitudes=df_toronto['Latitude'],\n",
    "                                   longitudes=df_toronto['Longitude']\n",
    "                                  )"
   ]
  },
  {
   "source": [
    "Run above function for toronto data"
   ],
   "cell_type": "markdown",
   "metadata": {}
  },
  {
   "cell_type": "code",
   "execution_count": 43,
   "metadata": {},
   "outputs": [
    {
     "output_type": "stream",
     "name": "stdout",
     "text": [
      "(2136, 7)\n"
     ]
    },
    {
     "output_type": "execute_result",
     "data": {
      "text/plain": [
       "                             Neighborhood  Neighborhood Latitude  \\\n",
       "0                          Malvern, Rouge              43.806686   \n",
       "1  Rouge Hill, Port Union, Highland Creek              43.784535   \n",
       "2  Rouge Hill, Port Union, Highland Creek              43.784535   \n",
       "3       Guildwood, Morningside, West Hill              43.763573   \n",
       "4       Guildwood, Morningside, West Hill              43.763573   \n",
       "\n",
       "   Neighborhood Longitude                                              Venue  \\\n",
       "0              -79.194353                                            Wendy’s   \n",
       "1              -79.160497                              Royal Canadian Legion   \n",
       "2              -79.160497  SEBS Engineering Inc. (Sustainable Energy and ...   \n",
       "3              -79.188711                                     RBC Royal Bank   \n",
       "4              -79.188711                                  G & G Electronics   \n",
       "\n",
       "   Venue Latitude  Venue Longitude              Venue Category  \n",
       "0       43.807448       -79.199056        Fast Food Restaurant  \n",
       "1       43.782533       -79.163085                         Bar  \n",
       "2       43.782371       -79.156820  Construction & Landscaping  \n",
       "3       43.766790       -79.191151                        Bank  \n",
       "4       43.765309       -79.191537           Electronics Store  "
      ],
      "text/html": "<div>\n<style scoped>\n    .dataframe tbody tr th:only-of-type {\n        vertical-align: middle;\n    }\n\n    .dataframe tbody tr th {\n        vertical-align: top;\n    }\n\n    .dataframe thead th {\n        text-align: right;\n    }\n</style>\n<table border=\"1\" class=\"dataframe\">\n  <thead>\n    <tr style=\"text-align: right;\">\n      <th></th>\n      <th>Neighborhood</th>\n      <th>Neighborhood Latitude</th>\n      <th>Neighborhood Longitude</th>\n      <th>Venue</th>\n      <th>Venue Latitude</th>\n      <th>Venue Longitude</th>\n      <th>Venue Category</th>\n    </tr>\n  </thead>\n  <tbody>\n    <tr>\n      <th>0</th>\n      <td>Malvern, Rouge</td>\n      <td>43.806686</td>\n      <td>-79.194353</td>\n      <td>Wendy’s</td>\n      <td>43.807448</td>\n      <td>-79.199056</td>\n      <td>Fast Food Restaurant</td>\n    </tr>\n    <tr>\n      <th>1</th>\n      <td>Rouge Hill, Port Union, Highland Creek</td>\n      <td>43.784535</td>\n      <td>-79.160497</td>\n      <td>Royal Canadian Legion</td>\n      <td>43.782533</td>\n      <td>-79.163085</td>\n      <td>Bar</td>\n    </tr>\n    <tr>\n      <th>2</th>\n      <td>Rouge Hill, Port Union, Highland Creek</td>\n      <td>43.784535</td>\n      <td>-79.160497</td>\n      <td>SEBS Engineering Inc. (Sustainable Energy and ...</td>\n      <td>43.782371</td>\n      <td>-79.156820</td>\n      <td>Construction &amp; Landscaping</td>\n    </tr>\n    <tr>\n      <th>3</th>\n      <td>Guildwood, Morningside, West Hill</td>\n      <td>43.763573</td>\n      <td>-79.188711</td>\n      <td>RBC Royal Bank</td>\n      <td>43.766790</td>\n      <td>-79.191151</td>\n      <td>Bank</td>\n    </tr>\n    <tr>\n      <th>4</th>\n      <td>Guildwood, Morningside, West Hill</td>\n      <td>43.763573</td>\n      <td>-79.188711</td>\n      <td>G &amp; G Electronics</td>\n      <td>43.765309</td>\n      <td>-79.191537</td>\n      <td>Electronics Store</td>\n    </tr>\n  </tbody>\n</table>\n</div>"
     },
     "metadata": {},
     "execution_count": 43
    }
   ],
   "source": [
    "print(toronto_venues.shape)\n",
    "toronto_venues.head()"
   ]
  },
  {
   "cell_type": "code",
   "execution_count": 44,
   "metadata": {},
   "outputs": [
    {
     "output_type": "execute_result",
     "data": {
      "text/plain": [
       "                                                 Neighborhood Latitude  \\\n",
       "Neighborhood                                                             \n",
       "Agincourt                                                            5   \n",
       "Alderwood, Long Branch                                               7   \n",
       "Bathurst Manor, Wilson Heights, Downsview North                     21   \n",
       "Bayview Village                                                      4   \n",
       "Bedford Park, Lawrence Manor East                                   22   \n",
       "...                                                                ...   \n",
       "Willowdale, Willowdale West                                          5   \n",
       "Woburn                                                               4   \n",
       "Woodbine Heights                                                     7   \n",
       "York Mills West                                                      2   \n",
       "York Mills, Silver Hills                                             1   \n",
       "\n",
       "                                                 Neighborhood Longitude  \\\n",
       "Neighborhood                                                              \n",
       "Agincourt                                                             5   \n",
       "Alderwood, Long Branch                                                7   \n",
       "Bathurst Manor, Wilson Heights, Downsview North                      21   \n",
       "Bayview Village                                                       4   \n",
       "Bedford Park, Lawrence Manor East                                    22   \n",
       "...                                                                 ...   \n",
       "Willowdale, Willowdale West                                           5   \n",
       "Woburn                                                                4   \n",
       "Woodbine Heights                                                      7   \n",
       "York Mills West                                                       2   \n",
       "York Mills, Silver Hills                                              1   \n",
       "\n",
       "                                                 Venue  Venue Latitude  \\\n",
       "Neighborhood                                                             \n",
       "Agincourt                                            5               5   \n",
       "Alderwood, Long Branch                               7               7   \n",
       "Bathurst Manor, Wilson Heights, Downsview North     21              21   \n",
       "Bayview Village                                      4               4   \n",
       "Bedford Park, Lawrence Manor East                   22              22   \n",
       "...                                                ...             ...   \n",
       "Willowdale, Willowdale West                          5               5   \n",
       "Woburn                                               4               4   \n",
       "Woodbine Heights                                     7               7   \n",
       "York Mills West                                      2               2   \n",
       "York Mills, Silver Hills                             1               1   \n",
       "\n",
       "                                                 Venue Longitude  \\\n",
       "Neighborhood                                                       \n",
       "Agincourt                                                      5   \n",
       "Alderwood, Long Branch                                         7   \n",
       "Bathurst Manor, Wilson Heights, Downsview North               21   \n",
       "Bayview Village                                                4   \n",
       "Bedford Park, Lawrence Manor East                             22   \n",
       "...                                                          ...   \n",
       "Willowdale, Willowdale West                                    5   \n",
       "Woburn                                                         4   \n",
       "Woodbine Heights                                               7   \n",
       "York Mills West                                                2   \n",
       "York Mills, Silver Hills                                       1   \n",
       "\n",
       "                                                 Venue Category  \n",
       "Neighborhood                                                     \n",
       "Agincourt                                                     5  \n",
       "Alderwood, Long Branch                                        7  \n",
       "Bathurst Manor, Wilson Heights, Downsview North              21  \n",
       "Bayview Village                                               4  \n",
       "Bedford Park, Lawrence Manor East                            22  \n",
       "...                                                         ...  \n",
       "Willowdale, Willowdale West                                   5  \n",
       "Woburn                                                        4  \n",
       "Woodbine Heights                                              7  \n",
       "York Mills West                                               2  \n",
       "York Mills, Silver Hills                                      1  \n",
       "\n",
       "[96 rows x 6 columns]"
      ],
      "text/html": "<div>\n<style scoped>\n    .dataframe tbody tr th:only-of-type {\n        vertical-align: middle;\n    }\n\n    .dataframe tbody tr th {\n        vertical-align: top;\n    }\n\n    .dataframe thead th {\n        text-align: right;\n    }\n</style>\n<table border=\"1\" class=\"dataframe\">\n  <thead>\n    <tr style=\"text-align: right;\">\n      <th></th>\n      <th>Neighborhood Latitude</th>\n      <th>Neighborhood Longitude</th>\n      <th>Venue</th>\n      <th>Venue Latitude</th>\n      <th>Venue Longitude</th>\n      <th>Venue Category</th>\n    </tr>\n    <tr>\n      <th>Neighborhood</th>\n      <th></th>\n      <th></th>\n      <th></th>\n      <th></th>\n      <th></th>\n      <th></th>\n    </tr>\n  </thead>\n  <tbody>\n    <tr>\n      <th>Agincourt</th>\n      <td>5</td>\n      <td>5</td>\n      <td>5</td>\n      <td>5</td>\n      <td>5</td>\n      <td>5</td>\n    </tr>\n    <tr>\n      <th>Alderwood, Long Branch</th>\n      <td>7</td>\n      <td>7</td>\n      <td>7</td>\n      <td>7</td>\n      <td>7</td>\n      <td>7</td>\n    </tr>\n    <tr>\n      <th>Bathurst Manor, Wilson Heights, Downsview North</th>\n      <td>21</td>\n      <td>21</td>\n      <td>21</td>\n      <td>21</td>\n      <td>21</td>\n      <td>21</td>\n    </tr>\n    <tr>\n      <th>Bayview Village</th>\n      <td>4</td>\n      <td>4</td>\n      <td>4</td>\n      <td>4</td>\n      <td>4</td>\n      <td>4</td>\n    </tr>\n    <tr>\n      <th>Bedford Park, Lawrence Manor East</th>\n      <td>22</td>\n      <td>22</td>\n      <td>22</td>\n      <td>22</td>\n      <td>22</td>\n      <td>22</td>\n    </tr>\n    <tr>\n      <th>...</th>\n      <td>...</td>\n      <td>...</td>\n      <td>...</td>\n      <td>...</td>\n      <td>...</td>\n      <td>...</td>\n    </tr>\n    <tr>\n      <th>Willowdale, Willowdale West</th>\n      <td>5</td>\n      <td>5</td>\n      <td>5</td>\n      <td>5</td>\n      <td>5</td>\n      <td>5</td>\n    </tr>\n    <tr>\n      <th>Woburn</th>\n      <td>4</td>\n      <td>4</td>\n      <td>4</td>\n      <td>4</td>\n      <td>4</td>\n      <td>4</td>\n    </tr>\n    <tr>\n      <th>Woodbine Heights</th>\n      <td>7</td>\n      <td>7</td>\n      <td>7</td>\n      <td>7</td>\n      <td>7</td>\n      <td>7</td>\n    </tr>\n    <tr>\n      <th>York Mills West</th>\n      <td>2</td>\n      <td>2</td>\n      <td>2</td>\n      <td>2</td>\n      <td>2</td>\n      <td>2</td>\n    </tr>\n    <tr>\n      <th>York Mills, Silver Hills</th>\n      <td>1</td>\n      <td>1</td>\n      <td>1</td>\n      <td>1</td>\n      <td>1</td>\n      <td>1</td>\n    </tr>\n  </tbody>\n</table>\n<p>96 rows × 6 columns</p>\n</div>"
     },
     "metadata": {},
     "execution_count": 44
    }
   ],
   "source": [
    "toronto_venues.groupby('Neighborhood').count()"
   ]
  },
  {
   "source": [
    "check how many venues were returned for each neighborhood"
   ],
   "cell_type": "markdown",
   "metadata": {}
  },
  {
   "source": [
    "unique categories can be curated from all the returned venues"
   ],
   "cell_type": "markdown",
   "metadata": {}
  },
  {
   "cell_type": "code",
   "execution_count": 45,
   "metadata": {},
   "outputs": [
    {
     "output_type": "stream",
     "name": "stdout",
     "text": [
      "There are 272 uniques categories.\n"
     ]
    }
   ],
   "source": [
    "print('There are {} uniques categories.'.format(len(toronto_venues['Venue Category'].unique())))"
   ]
  },
  {
   "cell_type": "code",
   "execution_count": null,
   "metadata": {},
   "outputs": [],
   "source": []
  }
 ]
}