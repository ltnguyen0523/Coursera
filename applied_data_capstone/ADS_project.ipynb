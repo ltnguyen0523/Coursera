{
 "metadata": {
  "language_info": {
   "codemirror_mode": {
    "name": "ipython",
    "version": 3
   },
   "file_extension": ".py",
   "mimetype": "text/x-python",
   "name": "python",
   "nbconvert_exporter": "python",
   "pygments_lexer": "ipython3",
   "version": 3
  },
  "orig_nbformat": 2
 },
 "nbformat": 4,
 "nbformat_minor": 2,
 "cells": [
  {
   "source": [
    "# Applied Data Science Capstone Project - The Battle of Neighborhoods"
   ],
   "cell_type": "markdown",
   "metadata": {}
  },
  {
   "source": [
    "## Define a Problem\n",
    "\n",
    "Clearly define a problem or an idea of your choice, where you would need to leverage the Foursquare location data to solve or execute. Remember that data science problems always target an audience and are meant to help a group of stakeholders solve a problem, so make sure that you explicitly describe your audience and why they would care about your problem."
   ],
   "cell_type": "markdown",
   "metadata": {}
  },
  {
   "source": [
    "With the growing population in the DC, Maryland, Virginia (DMV) area, the demand for new shops and restaurants continue to be on demand. Some hopeful entrepreneurs in the Laurel, MD area are looking to open a quaint little store/business by the end of the year. This project is to help pick the right location in the chosen city for this new business.  "
   ],
   "cell_type": "markdown",
   "metadata": {}
  },
  {
   "source": [
    "## Data Description\n",
    "\n",
    "Describe the data that you will be using to solve the problem or execute your idea. Remember that you will need to use the Foursquare location data to solve the problem or execute your idea. You can absolutely use other datasets in combination with the Foursquare location data. So make sure that you provide adequate explanation and discussion, with examples, of the data that you will be using, even if it is only Foursquare location data."
   ],
   "cell_type": "markdown",
   "metadata": {}
  },
  {
   "source": [
    "Utilizing data from Foursquare, the goal of this project is to gather the following information to make the correct determination:\n",
    "\n",
    "- crime rate\n",
    "- current businesses/venues around the area\n",
    "        - get venues categories / similar / pricing\n",
    "- map of current routes \n",
    "- Number of checkins around the area \n",
    "\n",
    "These data will help the entrepreneurs make the initial determination of location for their new business. \n"
   ],
   "cell_type": "markdown",
   "metadata": {}
  },
  {
   "cell_type": "code",
   "execution_count": null,
   "metadata": {},
   "outputs": [],
   "source": []
  }
 ]
}